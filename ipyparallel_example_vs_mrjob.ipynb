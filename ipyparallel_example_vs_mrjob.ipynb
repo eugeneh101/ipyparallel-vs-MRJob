{
 "cells": [
  {
   "cell_type": "markdown",
   "metadata": {},
   "source": [
    "# Ipyarallel: Rev your CPUs!"
   ]
  },
  {
   "cell_type": "markdown",
   "metadata": {
    "collapsed": true
   },
   "source": [
    "### Starting engines\n",
    "```\n",
    "!ipcluster nbextension enable # doesn't seem to work anymore\n",
    "!ipython profile create mycluster --parallel\n",
    "!ipcluster start --n=4 --profile=myclster # --daemon=True doesn't seem to work, have to do it on Terminal\n",
    "```"
   ]
  },
  {
   "cell_type": "code",
   "execution_count": 1,
   "metadata": {},
   "outputs": [
    {
     "name": "stdout",
     "output_type": "stream",
     "text": [
      "[0, 1, 2, 3]\n"
     ]
    },
    {
     "data": {
      "text/plain": [
       "{0: 9856, 1: 6472, 2: 8320, 3: 3540}"
      ]
     },
     "execution_count": 1,
     "metadata": {},
     "output_type": "execute_result"
    }
   ],
   "source": [
    "import os\n",
    "import ipyparallel as ipp\n",
    "\n",
    "\n",
    "# wait 10 seconds before running this cell after starting the cluster\n",
    "client = ipp.Client()\n",
    "print(client.ids)\n",
    "ar = client[:].apply_async(os.getpid)\n",
    "ar.get_dict()"
   ]
  },
  {
   "cell_type": "code",
   "execution_count": null,
   "metadata": {
    "collapsed": true
   },
   "outputs": [],
   "source": []
  },
  {
   "cell_type": "markdown",
   "metadata": {},
   "source": [
    "### Direct View gets all the engines"
   ]
  },
  {
   "cell_type": "code",
   "execution_count": 2,
   "metadata": {},
   "outputs": [
    {
     "name": "stdout",
     "output_type": "stream",
     "text": [
      "['Hello, World!', 'Hello, World!', 'Hello, World!', 'Hello, World!']\n",
      "<AsyncResult: <lambda>>\n",
      "{0: 'Hello, World!', 1: 'Hello, World!', 2: 'Hello, World!', 3: 'Hello, World!'}\n",
      "['Hello, World!', 'Hello, World!', 'Hello, World!', 'Hello, World!']\n"
     ]
    }
   ],
   "source": [
    "direct_view = client[:]\n",
    "print(direct_view.apply_sync(lambda : \"Hello, World!\"))\n",
    "print(direct_view.apply_async(lambda : \"Hello, World!\"))\n",
    "print(direct_view.apply_async(lambda : \"Hello, World!\").get_dict())\n",
    "print(direct_view.apply_async(lambda : \"Hello, World!\").get())"
   ]
  },
  {
   "cell_type": "code",
   "execution_count": 3,
   "metadata": {},
   "outputs": [
    {
     "name": "stdout",
     "output_type": "stream",
     "text": [
      "[0, 1, 4, 9, 16, 25, 36, 49, 64, 81]\n",
      "{0: 0, 1: 1, 2: 4, 3: 9}\n",
      "[0, 1, 4, 9, 16, 25, 36, 49, 64, 81]\n"
     ]
    }
   ],
   "source": [
    "print(direct_view.map_sync(lambda x: x ** 2, xrange(10)))\n",
    "async = direct_view.map(lambda x: x ** 2, xrange(10)) \n",
    "\n",
    "print(async.get_dict()) # doesn't get the entire result\n",
    "print(async.get()) # gets all the results"
   ]
  },
  {
   "cell_type": "code",
   "execution_count": null,
   "metadata": {
    "collapsed": true
   },
   "outputs": [],
   "source": []
  },
  {
   "cell_type": "markdown",
   "metadata": {},
   "source": [
    "### Push or pull objects into engines"
   ]
  },
  {
   "cell_type": "code",
   "execution_count": 4,
   "metadata": {},
   "outputs": [
    {
     "data": {
      "text/plain": [
       "<AsyncResult: _push>"
      ]
     },
     "execution_count": 4,
     "metadata": {},
     "output_type": "execute_result"
    }
   ],
   "source": [
    "# another way to put objects into engines\n",
    "direct_view.push(dict(a=1.03234, b=3453))"
   ]
  },
  {
   "cell_type": "code",
   "execution_count": 5,
   "metadata": {},
   "outputs": [
    {
     "data": {
      "text/plain": [
       "[1.03234, 1.03234, 1.03234, 1.03234]"
      ]
     },
     "execution_count": 5,
     "metadata": {},
     "output_type": "execute_result"
    }
   ],
   "source": [
    "direct_view.pull('a').get() # direct_view['a']; client[:]['a']"
   ]
  },
  {
   "cell_type": "code",
   "execution_count": 6,
   "metadata": {
    "collapsed": true
   },
   "outputs": [],
   "source": [
    "client[0]['a'] = client[1]['a'] # take something out of 1 engine to put into another"
   ]
  },
  {
   "cell_type": "code",
   "execution_count": 7,
   "metadata": {},
   "outputs": [
    {
     "data": {
      "text/plain": [
       "\u001b[0;31mOut[0:1]: \u001b[0m5"
      ]
     },
     "metadata": {},
     "output_type": "display_data"
    },
    {
     "data": {
      "text/plain": [
       "\u001b[0;31mOut[1:1]: \u001b[0m5"
      ]
     },
     "metadata": {},
     "output_type": "display_data"
    },
    {
     "data": {
      "text/plain": [
       "\u001b[0;31mOut[2:1]: \u001b[0m5"
      ]
     },
     "metadata": {},
     "output_type": "display_data"
    },
    {
     "data": {
      "text/plain": [
       "\u001b[0;31mOut[3:1]: \u001b[0m5"
      ]
     },
     "metadata": {},
     "output_type": "display_data"
    }
   ],
   "source": [
    "%%px\n",
    "# set all engines\n",
    "a = 5\n",
    "a"
   ]
  },
  {
   "cell_type": "code",
   "execution_count": 8,
   "metadata": {},
   "outputs": [
    {
     "data": {
      "text/plain": [
       "\u001b[0;31mOut[0:2]: \u001b[0m3"
      ]
     },
     "metadata": {},
     "output_type": "display_data"
    },
    {
     "data": {
      "text/plain": [
       "\u001b[0;31mOut[1:2]: \u001b[0m5"
      ]
     },
     "metadata": {},
     "output_type": "display_data"
    },
    {
     "data": {
      "text/plain": [
       "\u001b[0;31mOut[2:2]: \u001b[0m5"
      ]
     },
     "metadata": {},
     "output_type": "display_data"
    },
    {
     "data": {
      "text/plain": [
       "\u001b[0;31mOut[3:2]: \u001b[0m5"
      ]
     },
     "metadata": {},
     "output_type": "display_data"
    }
   ],
   "source": [
    "client[0]['a'] = 3 # set individual engine\n",
    "%px a"
   ]
  },
  {
   "cell_type": "code",
   "execution_count": 9,
   "metadata": {
    "collapsed": true
   },
   "outputs": [],
   "source": [
    "direct_view['b'] = 5 # I don't really know the difference between client and direct_view"
   ]
  },
  {
   "cell_type": "code",
   "execution_count": 10,
   "metadata": {},
   "outputs": [
    {
     "name": "stdout",
     "output_type": "stream",
     "text": [
      "<AsyncResult: execute>\n",
      "{0: <ExecuteReply[2]: >, 2: <ExecuteReply[2]: >}\n"
     ]
    }
   ],
   "source": [
    "print(client[::2].execute('c = a + b'))\n",
    "print(client[::2].execute('c = a + b').get_dict())"
   ]
  },
  {
   "cell_type": "code",
   "execution_count": null,
   "metadata": {
    "collapsed": true
   },
   "outputs": [],
   "source": []
  },
  {
   "cell_type": "markdown",
   "metadata": {},
   "source": [
    "### Spread an iterable across engines and save it with a name"
   ]
  },
  {
   "cell_type": "code",
   "execution_count": 11,
   "metadata": {
    "scrolled": true
   },
   "outputs": [
    {
     "name": "stdout",
     "output_type": "stream",
     "text": [
      "[0, 1, 2, 3, 4, 5, 6, 7, 8, 9]\n"
     ]
    },
    {
     "data": {
      "text/plain": [
       "\u001b[0;31mOut[0:3]: \u001b[0m[0, 1, 2]"
      ]
     },
     "metadata": {},
     "output_type": "display_data"
    },
    {
     "data": {
      "text/plain": [
       "\u001b[0;31mOut[1:3]: \u001b[0m[3, 4, 5]"
      ]
     },
     "metadata": {},
     "output_type": "display_data"
    },
    {
     "data": {
      "text/plain": [
       "\u001b[0;31mOut[2:3]: \u001b[0m[6, 7]"
      ]
     },
     "metadata": {},
     "output_type": "display_data"
    },
    {
     "data": {
      "text/plain": [
       "\u001b[0;31mOut[3:3]: \u001b[0m[8, 9]"
      ]
     },
     "metadata": {},
     "output_type": "display_data"
    }
   ],
   "source": [
    "direct_view.scatter('some_variable', xrange(10)) # spread different numbers to each engine\n",
    "print(direct_view.gather('some_variable')).get()\n",
    "%px some_variable"
   ]
  },
  {
   "cell_type": "code",
   "execution_count": 12,
   "metadata": {},
   "outputs": [
    {
     "name": "stdout",
     "output_type": "stream",
     "text": [
      "[stdout:0] \n",
      "0\n",
      "1\n",
      "2\n",
      "[stdout:1] \n",
      "3\n",
      "4\n",
      "5\n",
      "[stdout:2] \n",
      "6\n",
      "7\n",
      "[stdout:3] \n",
      "8\n",
      "9\n",
      "Wall time: 481 ms\n"
     ]
    }
   ],
   "source": [
    "%%time\n",
    "%%px\n",
    "\n",
    "# still blocking because it returns when the last one finishes\n",
    "# cannot stop process once started\n",
    "for element in some_variable: # check if some_variable is an element or list\n",
    "    counter = 0 \n",
    "    while counter < element * 1e5:\n",
    "        counter += 1\n",
    "    print(element)"
   ]
  },
  {
   "cell_type": "code",
   "execution_count": 13,
   "metadata": {},
   "outputs": [
    {
     "name": "stdout",
     "output_type": "stream",
     "text": [
      "[stdout:0] \n",
      "Variable        Type    Data/Info\n",
      "---------------------------------\n",
      "a               int     3\n",
      "b               int     5\n",
      "c               int     8\n",
      "counter         int     200000\n",
      "element         int     2\n",
      "some_variable   list    n=3\n",
      "[stdout:1] \n",
      "Variable        Type    Data/Info\n",
      "---------------------------------\n",
      "a               int     5\n",
      "b               int     5\n",
      "counter         int     500000\n",
      "element         int     5\n",
      "some_variable   list    n=3\n",
      "[stdout:2] \n",
      "Variable        Type    Data/Info\n",
      "---------------------------------\n",
      "a               int     5\n",
      "b               int     5\n",
      "c               int     10\n",
      "counter         int     700000\n",
      "element         int     7\n",
      "some_variable   list    n=2\n",
      "[stdout:3] \n",
      "Variable        Type    Data/Info\n",
      "---------------------------------\n",
      "a               int     5\n",
      "b               int     5\n",
      "counter         int     900000\n",
      "element         int     9\n",
      "some_variable   list    n=2\n"
     ]
    }
   ],
   "source": [
    "%px %whos\n",
    "# variables in each engine remember objects between Jupyter Notebook resets. \n",
    "# Have to manually restart the ipcluster"
   ]
  },
  {
   "cell_type": "code",
   "execution_count": null,
   "metadata": {
    "collapsed": true
   },
   "outputs": [],
   "source": []
  },
  {
   "cell_type": "markdown",
   "metadata": {},
   "source": [
    "### Asynchronous call"
   ]
  },
  {
   "cell_type": "markdown",
   "metadata": {},
   "source": [
    "Async/sync are separate from direct_view/load_balanced_view  \n",
    "sync: return everything when the last machine is done, so all the results come at the same time  \n",
    "async: the process will be queued and being processed. You can call .get(wait_time) to wait up to wait_time to get results or TimeoutError, use .done() to determine if all engines are done\n",
    "\n",
    "direct_view: manually control with engines are doing the work   load_balanced_view: intelligently let the engine figure out which engines to take the next piece of the computation"
   ]
  },
  {
   "cell_type": "code",
   "execution_count": 14,
   "metadata": {
    "scrolled": true
   },
   "outputs": [
    {
     "name": "stdout",
     "output_type": "stream",
     "text": [
      "0.108\n",
      "1\n",
      "Wall time: 112 ms\n"
     ]
    }
   ],
   "source": [
    "%%time\n",
    "import numpy as np\n",
    "\n",
    "def myfunction(element):\n",
    "    counter = 0 \n",
    "    while counter < element * 1e5:\n",
    "        counter += 1\n",
    "    print(element)\n",
    "\n",
    "load_balanced_view = client.load_balanced_view()\n",
    "async = load_balanced_view.map_async(myfunction, xrange(50))\n",
    "\n",
    "\n",
    "print async.elapsed # time elapsed\n",
    "print async.progress # how many tasks completed\n",
    "\n",
    "# myfunction will not exist in each engine's namespace\n",
    "# as it was only an argument passed into the map_async()"
   ]
  },
  {
   "cell_type": "code",
   "execution_count": 15,
   "metadata": {},
   "outputs": [
    {
     "name": "stdout",
     "output_type": "stream",
     "text": [
      "  50/50 tasks finished after    8 s\n",
      "done\n",
      "[None, None, None, None, None, None, None, None, None, None, None, None, None, None, None, None, None, None, None, None, None, None, None, None, None, None, None, None, None, None, None, None, None, None, None, None, None, None, None, None, None, None, None, None, None, None, None, None, None, None]\n"
     ]
    }
   ],
   "source": [
    "print(async.done()) # is it done?\n",
    "\n",
    "#async.get(timeout=10) # give it up to 10 seconds before it either returns the results or TimeoutError\n",
    "async.wait_interactive()\n",
    "print(async.get(-1)) # wait until calculations are done and then return the results"
   ]
  },
  {
   "cell_type": "code",
   "execution_count": null,
   "metadata": {},
   "outputs": [
    {
     "data": {
      "text/plain": [
       "[0.0,\n",
       " 10.0,\n",
       " 160.0,\n",
       " 810.0,\n",
       " 2560.0,\n",
       " 6250.0,\n",
       " 12960.0,\n",
       " 24010.0,\n",
       " 40960.0,\n",
       " 65610.0,\n",
       " 100000.0,\n",
       " 146410.0,\n",
       " 207360.0,\n",
       " 285610.0,\n",
       " 384160.0,\n",
       " 506250.0,\n",
       " 655360.0,\n",
       " 835210.0,\n",
       " 1049760.0,\n",
       " 1303210.0,\n",
       " 1600000.0,\n",
       " 1944810.0,\n",
       " 2342560.0,\n",
       " 2798410.0,\n",
       " 3317760.0,\n",
       " 3906250.0,\n",
       " 4569760.0,\n",
       " 5314410.0,\n",
       " 6146560.0,\n",
       " 7072810.0,\n",
       " 8100000.0,\n",
       " 9235210.0]"
      ]
     },
     "execution_count": 16,
     "metadata": {},
     "output_type": "execute_result"
    }
   ],
   "source": [
    "# Instead of putting functions in engine namespace, only put in main namespace\n",
    "\n",
    "@load_balanced_view.parallel()\n",
    "def silly_function(x):\n",
    "    return 10.0 * x ** 4\n",
    "\n",
    "# this is done in parallel\n",
    "silly_function.map(range(32)).get()"
   ]
  },
  {
   "cell_type": "code",
   "execution_count": null,
   "metadata": {},
   "outputs": [
    {
     "name": "stdout",
     "output_type": "stream",
     "text": [
      "1.1\n"
     ]
    },
    {
     "name": "stderr",
     "output_type": "stream",
     "text": [
      "\r",
      " 20%|█████████████▏                                                    | 2/10 [00:01<00:04,  1.88it/s]"
     ]
    }
   ],
   "source": [
    "%%time\n",
    "from IPython.display import clear_output\n",
    "from tqdm import tqdm\n",
    "\n",
    "@load_balanced_view.parallel(ordered=False, chunksize=1) \n",
    "# ordered: return results in any order\n",
    "# chunksize: how the results come out in\n",
    "def delay(num1, num2):\n",
    "    import time\n",
    "    time.sleep(num1)\n",
    "    return num1 + num2\n",
    "\n",
    "# this is how you pass multiple arguments, must have same length\n",
    "async = delay.map(xrange(10), [0.1] * 10) \n",
    "for engine_result in tqdm(async):\n",
    "    clear_output()\n",
    "    print engine_result\n",
    "\n",
    "print(async.get())"
   ]
  },
  {
   "cell_type": "code",
   "execution_count": null,
   "metadata": {
    "collapsed": true
   },
   "outputs": [],
   "source": []
  },
  {
   "cell_type": "markdown",
   "metadata": {},
   "source": [
    "### Clear namepace"
   ]
  },
  {
   "cell_type": "code",
   "execution_count": null,
   "metadata": {},
   "outputs": [],
   "source": [
    "%%px\n",
    "del a, b, counter, element, some_variable\n",
    "try:\n",
    "    del c\n",
    "except NameError:\n",
    "    pass\n",
    "%whos"
   ]
  },
  {
   "cell_type": "code",
   "execution_count": null,
   "metadata": {
    "collapsed": true
   },
   "outputs": [],
   "source": []
  },
  {
   "cell_type": "markdown",
   "metadata": {
    "collapsed": true
   },
   "source": [
    "## Stopping engines\n",
    "\n",
    "`!ipcluster stop`"
   ]
  },
  {
   "cell_type": "code",
   "execution_count": null,
   "metadata": {
    "collapsed": true
   },
   "outputs": [],
   "source": []
  },
  {
   "cell_type": "code",
   "execution_count": null,
   "metadata": {
    "collapsed": true
   },
   "outputs": [],
   "source": []
  },
  {
   "cell_type": "code",
   "execution_count": null,
   "metadata": {
    "collapsed": true
   },
   "outputs": [],
   "source": []
  },
  {
   "cell_type": "markdown",
   "metadata": {},
   "source": [
    "# Comparing Word Count with ipyparallel, MRJob, and single CPU"
   ]
  },
  {
   "cell_type": "markdown",
   "metadata": {},
   "source": [
    "## Word Count Example with ipyparallel"
   ]
  },
  {
   "cell_type": "code",
   "execution_count": null,
   "metadata": {},
   "outputs": [],
   "source": [
    "%%time\n",
    "# pass function into load_balanced view\n",
    "from glob import glob\n",
    "from collections import Counter\n",
    "\n",
    "def word_counter(file_name):\n",
    "    from collections import Counter # can pass in all imports\n",
    "    counter = Counter()\n",
    "    with open(file_name) as f:\n",
    "        for line in f:\n",
    "            counter.update(line.lower().split())\n",
    "        return counter\n",
    "\n",
    "num_pieces = 5\n",
    "!split --number=l/{num_pieces} encyclopedia_britannica.txt temp_file.\n",
    "\n",
    "async = load_balanced_view.map(word_counter, \n",
    "    glob(\"/Users/Eugene/Desktop/Repos/ipyparallel/temp_file*\"))\n",
    "\n",
    "global_counter1 = Counter() \n",
    "for engine_result in async:\n",
    "    global_counter1.update(engine_result)\n",
    "!rm temp_file*"
   ]
  },
  {
   "cell_type": "code",
   "execution_count": null,
   "metadata": {},
   "outputs": [],
   "source": [
    "%%time\n",
    "# decorate with load_balanced_view\n",
    "@load_balanced_view.parallel(ordered=False, chunksize=1)\n",
    "def word_counter(file_name):\n",
    "    from collections import Counter # can pass in all imports\n",
    "    counter = Counter()\n",
    "    with open(file_name) as f:\n",
    "        for line in f:\n",
    "            counter.update(line.lower().split())\n",
    "        return counter\n",
    "\n",
    "num_pieces = 5\n",
    "!split --number=l/{num_pieces} encyclopedia_britannica.txt temp_file.\n",
    "\n",
    "global_counter2 = Counter()\n",
    "    \n",
    "file_names = glob(\"/Users/Eugene/Desktop/Repos/ipyparallel/temp_file*\")\n",
    "async = word_counter.map(file_names) # need to write map\n",
    "\n",
    "for engine_result in async:\n",
    "    global_counter2.update(engine_result)\n",
    "    \n",
    "!rm temp_file*"
   ]
  },
  {
   "cell_type": "code",
   "execution_count": null,
   "metadata": {},
   "outputs": [],
   "source": [
    "global_counter1 == global_counter2"
   ]
  },
  {
   "cell_type": "code",
   "execution_count": null,
   "metadata": {},
   "outputs": [],
   "source": [
    "!ipcluster stop"
   ]
  },
  {
   "cell_type": "code",
   "execution_count": null,
   "metadata": {
    "collapsed": true
   },
   "outputs": [],
   "source": []
  },
  {
   "cell_type": "markdown",
   "metadata": {},
   "source": [
    "# MRJob Version of Word Count"
   ]
  },
  {
   "cell_type": "code",
   "execution_count": null,
   "metadata": {},
   "outputs": [],
   "source": [
    "%%writefile mr_word_counter.py\n",
    "from mrjob.job import MRJob\n",
    "\n",
    "\n",
    "class MRWordFrequencyCount(MRJob):\n",
    "\n",
    "    def mapper(self, _, line):\n",
    "        for word in line.lower().split():\n",
    "            yield (word, 1)\n",
    "\n",
    "    def combiner(self, word, aggregated_counts):\n",
    "        yield word, sum(aggregated_counts)\n",
    "\n",
    "    def reducer(self, key, count):\n",
    "        yield key, sum(count)\n",
    "\n",
    "\n",
    "if __name__ == '__main__':\n",
    "    MRWordFrequencyCount.run()"
   ]
  },
  {
   "cell_type": "code",
   "execution_count": null,
   "metadata": {
    "scrolled": true
   },
   "outputs": [],
   "source": [
    "%%time\n",
    "!python mr_word_counter.py < encyclopedia_britannica.txt > temp_encyclopedia_counter_results.txt\n",
    "\n",
    "# sort by second key in reverse order\n",
    "!cat temp_encyclopedia_counter_results.txt | sort --key 2nr -n | head -20"
   ]
  },
  {
   "cell_type": "code",
   "execution_count": null,
   "metadata": {
    "collapsed": true
   },
   "outputs": [],
   "source": []
  },
  {
   "cell_type": "markdown",
   "metadata": {},
   "source": [
    "## Comparision of ipyparallel, MRJob, Manual Counter"
   ]
  },
  {
   "cell_type": "code",
   "execution_count": null,
   "metadata": {},
   "outputs": [],
   "source": [
    "# ipyparallel version\n",
    "print(global_counter1.most_common()[:10])"
   ]
  },
  {
   "cell_type": "code",
   "execution_count": null,
   "metadata": {},
   "outputs": [],
   "source": [
    "# MRjob version\n",
    "from collections import Counter\n",
    "\n",
    "counter_mrjob = Counter()\n",
    "\n",
    "with open('temp_encyclopedia_counter_results.txt') as f:\n",
    "    for line in f:\n",
    "        word, count = line.strip().split('\\t')\n",
    "        counter_mrjob[word.strip('\"')] = int(count)\n",
    "\n",
    "print(counter_mrjob.most_common()[:10])\n",
    "\n",
    "!rm temp_encyclopedia_counter_results.txt"
   ]
  },
  {
   "cell_type": "code",
   "execution_count": null,
   "metadata": {
    "collapsed": true,
    "scrolled": true
   },
   "outputs": [],
   "source": [
    "%%time\n",
    "counter_manual = Counter()\n",
    "with open('encyclopedia_britannica.txt') as f:\n",
    "    for line in f:\n",
    "        counter_manual.update(line.lower().split())\n",
    "\n",
    "print(counter_manual.most_common()[:10])"
   ]
  },
  {
   "cell_type": "code",
   "execution_count": null,
   "metadata": {
    "collapsed": true,
    "scrolled": false
   },
   "outputs": [],
   "source": [
    "print(global_counter1 == counter_manual) # perfect!\n",
    "print(counter_manual - counter_mrjob).most_common()[:10] # close enough!"
   ]
  },
  {
   "cell_type": "markdown",
   "metadata": {},
   "source": [
    "### Conclusion:\n",
    "For this word count example, it appears that ipyparallel is faster than MRJob. However, both seem to lose out to manual word counter (single CPU process)...  \n",
    "Perhaps, this file is not large enough to merit multiple processors."
   ]
  }
 ],
 "metadata": {
  "kernelspec": {
   "display_name": "Python 2",
   "language": "python",
   "name": "python2"
  },
  "language_info": {
   "codemirror_mode": {
    "name": "ipython",
    "version": 2
   },
   "file_extension": ".py",
   "mimetype": "text/x-python",
   "name": "python",
   "nbconvert_exporter": "python",
   "pygments_lexer": "ipython2",
   "version": "2.7.13"
  }
 },
 "nbformat": 4,
 "nbformat_minor": 1
}
